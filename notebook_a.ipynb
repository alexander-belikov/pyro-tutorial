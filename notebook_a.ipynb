{
 "cells": [
  {
   "cell_type": "code",
   "execution_count": 1,
   "metadata": {},
   "outputs": [],
   "source": [
    "import numpy as np\n",
    "import pandas as pd\n",
    "import matplotlib.pyplot as plt\n",
    "from scipy.stats import norm\n",
    "import seaborn as sns\n",
    "\n",
    "import pyro\n",
    "import pyro.distributions as dist\n",
    "from torch import nn\n",
    "from pyro.nn import PyroModule\n",
    "from torch.distributions import constraints\n",
    "from pyro.infer import SVI, Trace_ELBO, TraceMeanField_ELBO\n",
    "from pyro.infer import Predictive\n",
    "import pyro.optim as optim\n",
    "from IPython.display import Image"
   ]
  },
  {
   "cell_type": "markdown",
   "metadata": {},
   "source": [
    "Variables:\n",
    "- observable or latent.\n",
    "- data or parameters.\n",
    "- parameteric, non-parametric estimation.\n",
    "- discrete or continuous.\n",
    "- can be defined in random or deterministic way.\n",
    "\n",
    "Examples:\n",
    "\n",
    "Flipping coin: \n",
    "\n",
    "$P(X| \\nu) =  \\nu^X(1-\\nu)^{1- X}$, $\\nu \\in [0, 1]$.\n",
    "\n",
    "$P(X = head | \\nu) =  \\nu$, $\\nu \\in [0, 1]$.\n",
    "\n",
    "We observe $X$ but can not observe $\\nu$.\n",
    "\n",
    "$X$ in this is data, $\\nu$ is a parameter.\n",
    "$X$ is discrete, $\\nu$ is continuous.\n",
    "\n",
    "Another example, let $C$ be defined as $A+B$\n",
    "\n",
    "\n",
    "$P(C | A, B) = 1$, if $C = A+B$, 0, if $C \\neq A+B$."
   ]
  },
  {
   "cell_type": "markdown",
   "metadata": {},
   "source": [
    "Usual setting: \n",
    "\n",
    "we observe data $X$, we make some assumptions about $P(X | \\beta)$, the process that generates the data,\n",
    "and about the parameters of this process $P(\\beta)$.\n",
    "\n",
    "In that frame of mind we write:\n",
    "\n",
    "$P(\\beta | X) = \\frac{P(X | \\beta) P(\\beta)}{P(X)}$\n",
    "\n",
    "and call $P(\\beta)$ prior, something we suppose the parameters of the process that generates the data,\n",
    "$P(\\beta | X)$ - posterior, something that we learn about the parameters after having see the data. \n",
    "Then $P(X | \\beta)$ is the likelihood of the data given a fixed parameter."
   ]
  },
  {
   "cell_type": "markdown",
   "metadata": {},
   "source": [
    "## Probabilistic Progamming Language\n",
    "\n",
    "PPL has a way to specify $P(X | \\beta)$ and $P(\\beta | \\theta)$ to obtain $P(\\beta | X)$.\n",
    "\n",
    "Well, they can be just functions. \n",
    "\n",
    "Learning the posterior numerically : Metropolis-Hastings algorithm.\n",
    "\n",
    "$P(\\beta | X) - ?$.\n",
    "\n",
    "For a given $\\beta$ we can evaluate $P(X | \\beta)$ and $P(\\beta | \\theta)$.\n",
    "\n",
    "So we sample the space of $\\beta$ by simulating a Markov process: jumping with a kernel $Q(\\beta, \\beta')$.\n",
    "That is usually taken to be symmetric and Gaussian.\n",
    "\n",
    "We accept the jump with a certain threshold probability. In that case regions with highed $P(\\beta)$ will have more samples and their density will approximate the posterior."
   ]
  },
  {
   "cell_type": "markdown",
   "metadata": {},
   "source": [
    "![title](img/Illustration-of-Markov-Chain-Monte-Carlo-method.ppm)\n",
    "\n",
    "`source : https://www.researchgate.net/publication/334001505_Adaptive_Markov_chain_Monte_Carlo_algorithms_for_Bayesian_inference_recent_advances_and_comparative_study`"
   ]
  },
  {
   "cell_type": "code",
   "execution_count": 2,
   "metadata": {},
   "outputs": [
    {
     "data": {
      "text/plain": [
       "array([1, 1, 1, 0, 1, 1, 1, 1, 0, 0])"
      ]
     },
     "execution_count": 2,
     "metadata": {},
     "output_type": "execute_result"
    }
   ],
   "source": [
    "from numpy.random import RandomState\n",
    "rns = RandomState(11)\n",
    "\n",
    "obs = rns.binomial(1, 0.7, 10)\n",
    "obs "
   ]
  },
  {
   "cell_type": "code",
   "execution_count": 3,
   "metadata": {},
   "outputs": [
    {
     "data": {
      "text/plain": [
       "array([0.40086487, 0.67431091, 0.44709169, 0.47353209, 0.41837195,\n",
       "       0.6491808 , 0.56082703, 0.65348877, 0.53443872, 0.50289448])"
      ]
     },
     "execution_count": 3,
     "metadata": {},
     "output_type": "execute_result"
    }
   ],
   "source": [
    "rns.beta(5, 5, 10)"
   ]
  },
  {
   "cell_type": "code",
   "execution_count": 4,
   "metadata": {},
   "outputs": [
    {
     "data": {
      "text/plain": [
       "(-6.931471805599453, -6.3246515619844, -6.108643020548935)"
      ]
     },
     "execution_count": 4,
     "metadata": {},
     "output_type": "execute_result"
    }
   ],
   "source": [
    "def likelihood(x, nu):\n",
    "    return nu**x*(1 - nu)**(1 - x)\n",
    "\n",
    "np.sum(np.log(likelihood(obs, 0.5))), np.sum(np.log(likelihood(obs, 0.6))), np.sum(np.log(likelihood(obs, 0.7)))"
   ]
  },
  {
   "cell_type": "markdown",
   "metadata": {},
   "source": [
    "## Pyro vocabulary\n",
    "\n",
    "- a stochastic function ~ random variable: represents (A, B) -> C\n",
    "- `pyro.sample` primitive\n",
    "- pyro guide\n",
    "\n",
    "Random variables (not always random) in Pyro can be\n",
    "\n",
    "- deterministic Python code\n",
    "- primitive stochastic functions (random)\n",
    "\n",
    "A stochastic function can be any Python object with a `__call__()` method, like a function, a method, or a PyTorch `nn.Module`."
   ]
  },
  {
   "cell_type": "code",
   "execution_count": 5,
   "metadata": {},
   "outputs": [
    {
     "name": "stdout",
     "output_type": "stream",
     "text": [
      "('sunny', 75.98052215576172)\n",
      "('cloudy', 51.125267028808594)\n",
      "('sunny', 58.054649353027344)\n"
     ]
    }
   ],
   "source": [
    "def weather():\n",
    "    cloudy = pyro.sample('cloudy', pyro.distributions.Bernoulli(0.3))\n",
    "    cloudy = 'cloudy' if cloudy.item() == 1.0 else 'sunny'\n",
    "    mean_temp = {'cloudy': 55.0, 'sunny': 75.0}[cloudy]\n",
    "    scale_temp = {'cloudy': 10.0, 'sunny': 15.0}[cloudy]\n",
    "    temp = pyro.sample('temp', pyro.distributions.Normal(mean_temp, scale_temp))\n",
    "    return cloudy, temp.item()\n",
    "\n",
    "conditioned_scale = pyro.condition(weather, data={\"cloudy\": 1})\n",
    "\n",
    "for _ in range(3):\n",
    "    print(weather())"
   ]
  },
  {
   "cell_type": "markdown",
   "metadata": {},
   "source": [
    "pyro.sample is instantiating an rv, and assigns to it a name (in the context)"
   ]
  },
  {
   "cell_type": "markdown",
   "metadata": {},
   "source": [
    "Procedurally, `weather()` is still a non-deterministic Python callable that returns two random samples. \n",
    "\n",
    "Because the randomness is now invoked with `pyro.sample`, however, it is much more than that. In particular `weather()` specifies a joint probability distribution over two named random variables: `cloudy` and `temp`. \n",
    "\n",
    "As such, it defines a probabilistic model that we can reason about using the techniques of probability theory. \n",
    "\n",
    "For example we might ask:if I observe a temperature of 70 degrees, how likely is it to be cloudy?"
   ]
  },
  {
   "cell_type": "markdown",
   "metadata": {},
   "source": [
    "## Conditioning"
   ]
  },
  {
   "cell_type": "markdown",
   "metadata": {},
   "source": [
    "## Pyro guide\n",
    "\n",
    "- all unobserved sample statements that appear in the model appear in the guide.\n",
    "- the guide has the same input signature as the model (i.e., takes the same arguments)"
   ]
  },
  {
   "cell_type": "markdown",
   "metadata": {},
   "source": [
    "## Bernoulli example"
   ]
  },
  {
   "cell_type": "code",
   "execution_count": 48,
   "metadata": {},
   "outputs": [],
   "source": [
    "import math\n",
    "import os\n",
    "import torch\n",
    "import torch.distributions.constraints as constraints\n",
    "import pyro\n",
    "from pyro.optim import Adam\n",
    "from pyro.infer import SVI, Trace_ELBO\n",
    "import pyro.distributions as dist\n",
    "import pandas as pd\n",
    "\n",
    "\n",
    "# clear the param store in case we're in a REPL\n",
    "pyro.clear_param_store()\n",
    "\n",
    "n_steps = 50000\n",
    "\n",
    "data = []\n",
    "for _ in range(900):\n",
    "    data.append(torch.tensor(1.0))\n",
    "for _ in range(100):\n",
    "    data.append(torch.tensor(0.0))\n",
    "    \n",
    "data = torch.FloatTensor(data)\n",
    "\n",
    "def model(data):\n",
    "    # define the hyperparameters that control the beta prior\n",
    "    alpha0 = torch.tensor(0.5)\n",
    "    beta0 = torch.tensor(0.5)\n",
    "    # sample f from the beta prior\n",
    "    f = pyro.sample(\"nu\", dist.Beta(alpha0, beta0))\n",
    "    # loop over the observed data\n",
    "    with pyro.plate('data', len(data)):\n",
    "        pyro.sample('obs', dist.Bernoulli(f), obs=data)\n",
    "\n",
    "def guide(data):\n",
    "    # register the two variational parameters with Pyro\n",
    "    # - both parameters will have initial value 15.0.\n",
    "    # - because we invoke constraints.positive, the optimizer\n",
    "    # will take gradients on the unconstrained parameters\n",
    "    # (which are related to the constrained parameters by a log)\n",
    "    alpha_q = pyro.param(\"alpha_q\", torch.tensor(5.5),\n",
    "                         constraint=constraints.positive)\n",
    "    beta_q = pyro.param(\"beta_q\", torch.tensor(5.5),\n",
    "                        constraint=constraints.positive)\n",
    "    # sample latent_fairness from the distribution Beta(alpha_q, beta_q)\n",
    "    pyro.sample(\"nu\", dist.Beta(alpha_q, beta_q))"
   ]
  },
  {
   "cell_type": "code",
   "execution_count": 49,
   "metadata": {},
   "outputs": [],
   "source": [
    "def summary(samples):\n",
    "    site_stats = {}\n",
    "    for site_name, values in samples.items():\n",
    "        marginal_site = pd.DataFrame(values)\n",
    "        describe = marginal_site.describe(percentiles=[.05, 0.25, 0.5, 0.75, 0.95]).transpose()\n",
    "        site_stats[site_name] = describe[[\"mean\", \"std\", \"5%\", \"25%\", \"50%\", \"75%\", \"95%\"]]\n",
    "    return site_stats"
   ]
  },
  {
   "cell_type": "code",
   "execution_count": 50,
   "metadata": {},
   "outputs": [
    {
     "name": "stdout",
     "output_type": "stream",
     "text": [
      "....................................................................................................................................................................................................................................................................................................................................................................................................................................................................................................................\n",
      "based on the data and our prior belief, the fairness of the coin is 0.898 +- 0.024\n"
     ]
    }
   ],
   "source": [
    "# setup the optimizer\n",
    "adam_params = {\"lr\": 0.0005, \"betas\": (0.90, 0.999)}\n",
    "optimizer = Adam(adam_params)\n",
    "\n",
    "# setup the inference algorithm\n",
    "svi = SVI(model, guide, optimizer, loss=Trace_ELBO())\n",
    "\n",
    "# do gradient steps\n",
    "losses = []\n",
    "for step in range(n_steps):\n",
    "    losses += [svi.step(data)]\n",
    "    if step % 100 == 0:\n",
    "        print('.', end='')\n",
    "\n",
    "# grab the learned variational parameters\n",
    "alpha_q = pyro.param(\"alpha_q\").item()\n",
    "beta_q = pyro.param(\"beta_q\").item()\n",
    "\n",
    "# here we use some facts about the beta distribution\n",
    "# compute the inferred mean of the coin's fairness\n",
    "inferred_mean = alpha_q / (alpha_q + beta_q)\n",
    "# compute inferred standard deviation\n",
    "factor = beta_q / (alpha_q * (1.0 + alpha_q + beta_q))\n",
    "inferred_std = inferred_mean * math.sqrt(factor)\n",
    "\n",
    "print(\"\\nbased on the data and our prior belief, the fairness \" +\n",
    "      \"of the coin is %.3f +- %.3f\" % (inferred_mean, inferred_std))"
   ]
  },
  {
   "cell_type": "code",
   "execution_count": 51,
   "metadata": {},
   "outputs": [
    {
     "data": {
      "image/png": "[encoded data removed]",
      "text/plain": [
       "<Figure size 432x288 with 1 Axes>"
      ]
     },
     "metadata": {
      "needs_background": "light"
     },
     "output_type": "display_data"
    }
   ],
   "source": [
    "fig = plt.figure()\n",
    "ax = fig.add_subplot(1, 1, 1)\n",
    "\n",
    "line, = ax.plot(losses, color='blue', lw=2)\n",
    "\n",
    "# ax = plt.plot(losses)\n",
    "ax.set_yscale('log')"
   ]
  },
  {
   "cell_type": "code",
   "execution_count": 52,
   "metadata": {},
   "outputs": [],
   "source": [
    "from pyro.infer import Predictive\n",
    "\n",
    "num_samples = 1000\n",
    "predictive = Predictive(model, guide=guide, num_samples=num_samples)\n",
    "svi_samples = {k: v.reshape(num_samples).detach().cpu().numpy()\n",
    "               for k, v in predictive(data).items()\n",
    "               if not 'obs' in k}"
   ]
  },
  {
   "cell_type": "code",
   "execution_count": 53,
   "metadata": {},
   "outputs": [
    {
     "name": "stdout",
     "output_type": "stream",
     "text": [
      "Site: nu\n",
      "       mean       std        5%       25%       50%     75%       95%\n",
      "0  0.898297  0.024568  0.856456  0.882452  0.899965  0.9157  0.936023 \n",
      "\n"
     ]
    }
   ],
   "source": [
    "for site, values in summary(svi_samples).items():\n",
    "    print(\"Site: {}\".format(site))\n",
    "    print(values, \"\\n\")"
   ]
  },
  {
   "cell_type": "code",
   "execution_count": 54,
   "metadata": {},
   "outputs": [
    {
     "data": {
      "text/plain": [
       "<matplotlib.axes._subplots.AxesSubplot at 0x7f54827a4e10>"
      ]
     },
     "execution_count": 54,
     "metadata": {},
     "output_type": "execute_result"
    },
    {
     "data": {
      "image/png": "[encoded data removed]",
      "text/plain": [
       "<Figure size 432x288 with 1 Axes>"
      ]
     },
     "metadata": {
      "needs_background": "light"
     },
     "output_type": "display_data"
    }
   ],
   "source": [
    "sns.distplot(svi_samples['nu'], label='post')\n",
    "bb = dist.Beta(1., 1.)\n",
    "sns.distplot(bb.sample((1000,)))"
   ]
  },
  {
   "cell_type": "code",
   "execution_count": null,
   "metadata": {},
   "outputs": [],
   "source": [
    "|"
   ]
  }
 ],
 "metadata": {
  "kernelspec": {
   "display_name": "Python 3 (ipykernel)",
   "language": "python",
   "name": "python3"
  },
  "language_info": {
   "codemirror_mode": {
    "name": "ipython",
    "version": 3
   },
   "file_extension": ".py",
   "mimetype": "text/x-python",
   "name": "python",
   "nbconvert_exporter": "python",
   "pygments_lexer": "ipython3",
   "version": "3.8.13"
  }
 },
 "nbformat": 4,
 "nbformat_minor": 4
}
