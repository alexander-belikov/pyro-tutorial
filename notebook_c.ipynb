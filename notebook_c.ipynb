{
 "cells": [
  {
   "cell_type": "code",
   "execution_count": 1,
   "metadata": {},
   "outputs": [],
   "source": [
    "import numpy as np\n",
    "import pandas as pd\n",
    "import matplotlib.pyplot as plt\n",
    "from scipy.stats import norm\n",
    "import seaborn as sns\n",
    "\n",
    "import pyro\n",
    "import pyro.distributions as dist\n",
    "from torch import nn\n",
    "from pyro.nn import PyroModule\n",
    "from torch.distributions import constraints\n",
    "from pyro.infer import SVI, Trace_ELBO, TraceMeanField_ELBO\n",
    "from pyro.infer import Predictive\n",
    "import pyro.optim as optim\n",
    "from IPython.display import Image"
   ]
  },
  {
   "cell_type": "markdown",
   "metadata": {},
   "source": [
    "# Pyro vocabulary\n",
    "---\n",
    "\n",
    "\n",
    "- `model` : any function is a model.\n",
    "It is a \"composition of primitive stochastic functions and deterministic computations\".\n",
    "\n",
    "A stochastic function can be any Python object with a `__call__()` method, like a function, a method, or a PyTorch `nn.Module`.\n",
    "\n",
    "- `guide` : follows the model\n",
    "\n",
    "- `sample` : get a collection of independent rv from the same primitive and `name` it\n",
    "\n",
    "\n",
    "- `shapes` : observations are non scalars\n",
    "\n",
    "\n",
    "_  | iid | independent | dependent\n",
    "--- | --- | --- | ---\n",
    "*shape* | `sample_shape` | `batch_shape` | `event_shape`\n",
    "\n",
    "- `condition` : set the value of one or more variables for a model"
   ]
  },
  {
   "cell_type": "markdown",
   "metadata": {},
   "source": [
    "- `model` : any function is a model.\n",
    "\n",
    "- `guide` : follows the model"
   ]
  },
  {
   "cell_type": "markdown",
   "metadata": {},
   "source": [
    "### `model`\n",
    "\n",
    "$p_\\theta ({\\bf x}, {\\bf z}) = p({\\bf x} | {\\bf z}) p_\\theta({\\bf z})$\n",
    "\n",
    "parts of the model:\n",
    " \n",
    "- constants : `alpha0 = torch.tensor(10.)`\n",
    "\n",
    "- parameters : `pyro.param(\"alpha_q\", torch.tensor(10.), constraint=constraints.positive)`\n",
    "\n",
    "- latent variables : `pyro.sample(\"nu\", dist.Beta(alpha0, beta0))`\n",
    "\n",
    "- observables : `pyro.sample('obs', dist.Bernoulli(f), obs=data)`\n",
    "\n",
    "NB: `model` has at least three components!\n",
    "\n",
    "observable $x$, latent variable $z$ and parameters of the latent variable $\\theta$\n",
    "\n",
    "${\\bf x} \\gets {\\bf z} \\gets \\theta$\n",
    "\n",
    "assumption on probability distributions $p_i$\n",
    "\n",
    "- we can sample from each $p_i$\n",
    "\n",
    "- we can compute the pointwise logprob for each $p_i$\n",
    "\n",
    "- each $p_i$ is differentiable w.r.t. its parameters"
   ]
  },
  {
   "cell_type": "markdown",
   "metadata": {},
   "source": [
    "MLE: $${\\bf z}_{max} = \\mbox{argmax} \\, \\log p({\\bf x} | {\\bf z} )$$\n",
    "\n",
    "but we are one step above in complexity, so \n",
    "\n",
    "\n",
    "we are interested in :\n",
    "\n",
    "$$\\theta_{max} = \\mbox{argmax} \\, \\log p_\\theta ({\\bf x})$$\n",
    "\n",
    "\n",
    "$$\\log p_{\\theta}({\\bf x}) = \\log \\int\\! d{\\bf z}\\; p_{\\theta}({\\bf x}, {\\bf z})$$\n",
    "\n",
    "Issues:\n",
    "the intergral is often intractable, optimization problem might be non-convex.\n",
    "\n",
    "we are also interested in posterior distribution:\n",
    "\n",
    "$$ p_{\\theta_{\\rm{max}}}({\\bf z} | {\\bf x}) = \\frac{p_{\\theta_{\\rm{max}}}({\\bf x} , {\\bf z})}{\n",
    "\\int \\! d{\\bf z}\\; p_{\\theta_{\\rm{max}}}({\\bf x} , {\\bf z}) }$$"
   ]
  },
  {
   "cell_type": "markdown",
   "metadata": {},
   "source": [
    "### `guide`\n",
    "\n",
    "we introduce a parametrized the distribution of the latent variable, an `approximation` (!) to the posterior.\n",
    "\n",
    "$q_\\phi ({\\bf z})$\n",
    "\n",
    "It is customarily called the variational distribution. In pyro it is called `guide`.\n",
    "\n",
    "\n",
    "\n",
    "NB: `guide` has the same signature as `model`, so it has to have observable data as input $x$, but it never uses it\n",
    "\n",
    "Neither `model` nor `guide` have to return anything\n",
    "\n",
    "${\\bf z} \\gets \\phi$"
   ]
  },
  {
   "cell_type": "markdown",
   "metadata": {},
   "source": [
    "Since the guide is an approximation to the posterior $p_{\\theta_{\\rm{max}}}({\\bf z} | {\\bf x})$, the guide needs to provide a valid joint probability density over all the latent random variables in the model.\n",
    "\n",
    "So if `model` introduces a random variable with `sample` statement and calls it `z_1`, the `guide` should contain it.\n",
    "\n",
    "There 1-1 correspondance in the names scheme (the structure and distibution may be different).\n",
    "\n",
    "\n",
    "\n",
    "```python\n",
    "def model():\n",
    "    pyro.sample(\"z_1\", ...)\n",
    "```\n",
    "\n",
    "```python\n",
    "def guide():\n",
    "    pyro.sample(\"z_1\", ...)\n",
    "```"
   ]
  },
  {
   "cell_type": "markdown",
   "metadata": {},
   "source": [
    "## ELBO\n",
    "\n",
    "The evidence lower bound (ELBO).\n",
    "\n",
    "$$\n",
    "{\\rm ELBO} \\equiv \\mathbb{E}_{q_{\\phi}({\\bf z})} \\left [\n",
    "\\log p_{\\theta}({\\bf x}, {\\bf z}) - \\log q_{\\phi}({\\bf z})\n",
    "\\right]\n",
    "$$\n",
    "\n",
    "$\\log p_\\theta$ is computable and we can intergrate over $q$\n",
    "\n",
    "ELBO is the lower bound for log evidence.\n",
    "\n",
    "$$\\log p_{\\theta}({\\bf x}) \\ge {\\rm ELBO}$$\n",
    "\n",
    "\n",
    "$$\\log p_{\\theta}({\\bf x}) - {\\rm ELBO} =\n",
    "\\rm{KL}\\!\\left( q_{\\phi}({\\bf z}) \\lVert p_{\\theta}({\\bf z} | {\\bf x}) \\right)$$\n",
    "\n",
    "NB: KL divergence is non-negative.\n",
    "\n",
    "So we have two parts : the relative distance between $q_{\\phi}$ and $p_\\theta$ and $\\log p_{\\theta}({\\bf x})$"
   ]
  },
  {
   "cell_type": "markdown",
   "metadata": {},
   "source": [
    "For a fixed $\\theta$, as we take steps in $\\phi$ space that increase the ELBO, we decrease the KL divergence between the guide and the posterior, i.e. we move the guide towards the posterior. Then we take the step $\\theta$ and increase the evidence.\n",
    "\n",
    "In the general case we take gradient steps in both $\\theta$ and $\\phi$  space simultaneously so that the guide and model play chase, with the guide tracking a moving posterior. \n",
    "And it works."
   ]
  },
  {
   "cell_type": "markdown",
   "metadata": {},
   "source": [
    "So now we list the required components:\n",
    "`model`, `guide`, `loss`, `optimizer` and `engine`.\n",
    "\n",
    "```python\n",
    "import pyro\n",
    "from pyro.infer import SVI, Trace_ELBO\n",
    "svi = SVI(model, guide, optimizer, loss=Trace_ELBO())\n",
    "```"
   ]
  },
  {
   "cell_type": "markdown",
   "metadata": {},
   "source": [
    "The SVI object provides two methods, `step()` and `evaluate_loss()`, \n",
    "that encapsulate the logic for variational learning and evaluation:\n",
    "\n",
    "- The method `step()` takes a single gradient step and returns an estimate of the loss (i.e. minus the ELBO). If provided, the arguments to `step()` are piped to `model()` and `guide()`\n",
    "\n",
    " - The method `evaluate_loss()` returns an estimate of the loss without taking a gradient step. Just like for `step()`, if provided, arguments to `evaluate_loss()` are piped to `model()` and `guide()`."
   ]
  },
  {
   "cell_type": "markdown",
   "metadata": {},
   "source": [
    "## extras \n",
    "\n",
    "- `pyro.clear_param_store()`\n",
    "\n",
    "- `autoguides`\n",
    "\n",
    "- `dist.Normal(0, 1).expand([out_dim])`\n",
    "    \n",
    "    equivalent to pyro.sample() call\n",
    "\n",
    "- `dist.Normal(0, 1).expand([out_dim]).to_event(1))`\n",
    "    tells to consider 1 dimension from the right as dependent"
   ]
  },
  {
   "cell_type": "code",
   "execution_count": 2,
   "metadata": {},
   "outputs": [],
   "source": [
    "import math\n",
    "import os\n",
    "import torch\n",
    "import torch.distributions.constraints as constraints\n",
    "import pyro\n",
    "from pyro.optim import Adam\n",
    "from pyro.infer import SVI, Trace_ELBO\n",
    "import pyro.distributions as dist\n",
    "import pandas as pd\n",
    "\n",
    "\n",
    "pyro.clear_param_store()\n",
    "\n",
    "n_steps = 1000\n",
    "\n",
    "data = []\n",
    "for _ in range(9):\n",
    "    data.append(torch.tensor(1.0))\n",
    "for _ in range(1):\n",
    "    data.append(torch.tensor(0.0))\n",
    "    \n",
    "data = torch.FloatTensor(data)\n",
    "\n",
    "def model(data):\n",
    "    alpha0 = torch.tensor(10.)\n",
    "    beta0 = torch.tensor(10.)\n",
    "    f = pyro.sample(\"nu\", dist.Beta(alpha0, beta0))\n",
    "    with pyro.plate('data', len(data)):\n",
    "        pyro.sample('obs', dist.Bernoulli(f), obs=data)\n",
    "\n",
    "def guide(data):\n",
    "    alpha_q = pyro.param(\"alpha_q\", torch.tensor(10.),\n",
    "                         constraint=constraints.positive)\n",
    "    beta_q = pyro.param(\"beta_q\", torch.tensor(10.),\n",
    "                        constraint=constraints.positive)\n",
    "    pyro.sample(\"nu\", dist.Beta(alpha_q, beta_q))"
   ]
  },
  {
   "cell_type": "code",
   "execution_count": 3,
   "metadata": {},
   "outputs": [
    {
     "name": "stdout",
     "output_type": "stream",
     "text": [
      ".........."
     ]
    },
    {
     "data": {
      "text/plain": [
       "(12.380888938903809, 8.055330276489258)"
      ]
     },
     "execution_count": 3,
     "metadata": {},
     "output_type": "execute_result"
    }
   ],
   "source": [
    "# setup the optimizer\n",
    "adam_params = {\"lr\": 0.0005}\n",
    "optimizer = Adam(adam_params)\n",
    "\n",
    "# setup the inference algorithm\n",
    "svi = SVI(model, guide, optimizer, loss=Trace_ELBO())\n",
    "\n",
    "# do gradient steps\n",
    "losses = []\n",
    "for step in range(n_steps):\n",
    "    losses += [svi.step(data)]\n",
    "    if step % 100 == 0:\n",
    "        print('.', end='')\n",
    "\n",
    "# grab the learned variational parameters\n",
    "alpha_q = pyro.param(\"alpha_q\").item()\n",
    "beta_q = pyro.param(\"beta_q\").item()\n",
    "alpha_q, beta_q"
   ]
  },
  {
   "cell_type": "code",
   "execution_count": 4,
   "metadata": {},
   "outputs": [
    {
     "name": "stdout",
     "output_type": "stream",
     "text": [
      "\n",
      "based on the data and our prior belief, the fairness of the coin is 0.606 +- 0.106\n"
     ]
    }
   ],
   "source": [
    "# here we use some facts about the beta distribution\n",
    "# compute the inferred mean of the coin's fairness\n",
    "inferred_mean = alpha_q / (alpha_q + beta_q)\n",
    "# compute inferred standard deviation\n",
    "factor = beta_q / (alpha_q * (1.0 + alpha_q + beta_q))\n",
    "inferred_std = inferred_mean * math.sqrt(factor)\n",
    "\n",
    "print(\"\\nbased on the data and our prior belief, the fairness \" +\n",
    "      \"of the coin is %.3f +- %.3f\" % (inferred_mean, inferred_std))"
   ]
  },
  {
   "cell_type": "code",
   "execution_count": 5,
   "metadata": {},
   "outputs": [
    {
     "data": {
      "text/plain": [
       "0.6451612903225806"
      ]
     },
     "execution_count": 5,
     "metadata": {},
     "output_type": "execute_result"
    }
   ],
   "source": [
    "(9 + 10 + 1) /(10 + 10 + 10 + 1)"
   ]
  },
  {
   "cell_type": "code",
   "execution_count": 6,
   "metadata": {},
   "outputs": [
    {
     "data": {
      "image/png": "[encoded data removed]",
      "text/plain": [
       "<Figure size 432x288 with 1 Axes>"
      ]
     },
     "metadata": {
      "needs_background": "light"
     },
     "output_type": "display_data"
    }
   ],
   "source": [
    "fig = plt.figure()\n",
    "ax = fig.add_subplot(1, 1, 1)\n",
    "\n",
    "line, = ax.plot(losses, color='blue', lw=0.2)\n",
    "\n",
    "# ax = plt.plot(losses)\n",
    "# ax.set_yscale('log')"
   ]
  },
  {
   "cell_type": "code",
   "execution_count": 8,
   "metadata": {},
   "outputs": [],
   "source": [
    "params = pyro.get_param_store()"
   ]
  },
  {
   "cell_type": "code",
   "execution_count": 10,
   "metadata": {},
   "outputs": [
    {
     "data": {
      "text/plain": [
       "dict_keys(['alpha_q', 'beta_q'])"
      ]
     },
     "execution_count": 10,
     "metadata": {},
     "output_type": "execute_result"
    }
   ],
   "source": [
    "params.keys()"
   ]
  }
 ],
 "metadata": {
  "kernelspec": {
   "display_name": "Python 3 (ipykernel)",
   "language": "python",
   "name": "python3"
  },
  "language_info": {
   "codemirror_mode": {
    "name": "ipython",
    "version": 3
   },
   "file_extension": ".py",
   "mimetype": "text/x-python",
   "name": "python",
   "nbconvert_exporter": "python",
   "pygments_lexer": "ipython3",
   "version": "3.8.13"
  }
 },
 "nbformat": 4,
 "nbformat_minor": 4
}
