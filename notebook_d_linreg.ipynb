{
 "cells": [
  {
   "cell_type": "code",
   "execution_count": 1,
   "metadata": {},
   "outputs": [],
   "source": [
    "import torch\n",
    "import pyro\n",
    "import pyro.distributions as dist\n",
    "import matplotlib.pyplot as plt\n",
    "from pyro.infer import SVI, Trace_ELBO\n",
    "from pyro.optim import Adam\n",
    "from torch.distributions import constraints\n",
    "import seaborn as sns\n",
    "import numpy as np\n",
    "\n",
    "import warnings\n",
    "warnings.filterwarnings('ignore')\n",
    "plt.style.use('dark_background')"
   ]
  },
  {
   "cell_type": "markdown",
   "metadata": {},
   "source": [
    "## Bayesian inference\n",
    "\n",
    "- y : observed variable\n",
    "- z : latent\n",
    "\n",
    "We assume the form  $P({\\bf y} | {\\bf z})$, data given the parameter. And suppose that we have some prior information about ${\\bf z}$ : $P({\\bf z})$.\n",
    "\n",
    "What we are interested in is $\\mathbb{E}_{P({\\bf z} | {\\bf y})} [ h(z)]$ and more generally $P({\\bf z} | {\\bf y})$.\n",
    "\n",
    "Using Bayes rule:\n",
    "\n",
    "$P({\\bf z} | {\\bf y}) = \\frac{P({\\bf y} | {\\bf z}) P({\\bf z})} {\\int dz' P({\\bf y} | {\\bf z'}) P({\\bf z'})}$\n",
    "\n",
    "\n",
    "\n",
    "Sometimes it is possible to arrive to analytical result, cf. conjugate prior.\n",
    "For example when both $P({\\bf y} | {\\bf z})$ and $P({\\bf z})$ normal distributions.\n",
    "\n",
    "And if not? Then use approximate methods."
   ]
  },
  {
   "cell_type": "markdown",
   "metadata": {},
   "source": [
    "There are two options: MCMC and Variational.\n",
    "\n",
    "### MCMC\n",
    "Create a finite sample:\n",
    "\n",
    "$\n",
    "\\mathbb{E}_{P({\\bf z} | {\\bf y})} [ h(z)] \n",
    "\\approx \\frac{1}{N} \\sum h({\\bf z_k})\n",
    "$\n",
    "\n",
    "Markov chain - create a sequence of $(z_1, z_2, \\cdots )$.\n",
    "\n",
    "How? Using a kernel $K(z, z_t)$, for example use an autoregressive kernel $z_{t+1} \\sim N(z_t, 1)$.\n",
    "\n",
    "Algorithm sketch:\n",
    "\n",
    "1. Sample $\\hat z \\sim K(z | z_t)$\n",
    "2. Accept $\\hat z$ as $ z_{t+1}$ with probability $\\alpha = \\min \\left[1, \\frac{ P({\\bf \\hat z} | {\\bf y}) K(z_t | \\hat z) }{P({\\bf z_t} | {\\bf y}) K(\\hat z | z_t)} \\right]$\n",
    "\n",
    "We want the expectation to exist $ \\mathbb{E}_{P({\\bf z} | {\\bf y})} $ and that is guaranteed if the chain is ergodic (aperiodic, irreducible and has a stationary distribution)."
   ]
  },
  {
   "cell_type": "markdown",
   "metadata": {},
   "source": [
    "## Variational inference\n",
    "\n",
    "Rather than creating a sample of ${\\bf z}$, use a parametric function $Q({\\bf z})$ that may or may not be the same functionally as $P({\\bf z})$.\n",
    "\n",
    "We take the challenge to maximize $P({\\bf y})$ and minimize the distance between $Q({\\bf z})$ and $P({\\bf z} | {\\bf y})$.\n",
    "\n",
    "$\\log P(y) - KL(Q||P)$?\n",
    "\n",
    "$KL (Q||P) = \\int dQ \\log \\frac{Q}{P}$\n",
    "\n",
    "$\\log P(y) - KL(Q||P)$?\n",
    "\n",
    "$ \\log P(y) = \\log \\frac{P(y, z)}{P(z)}$\n",
    "\n",
    "$P(y) - KL(Q||P) = \\int dQ \\left( \\log P(y)  - \\log \\frac{Q(z)}{P(z)} \\right ) = \\int dQ \\left( \\log \\frac{P(y, z)}{P(z)}  - \\log \\frac{Q(z)}{P(z)} \\right ) = \\int dQ \\left( \\log P(y, z)  - \\log Q(z) \\right ) = \\mathbb{E}_{Q_\\phi} \\left[ \\log P(y, z) - \\log Q(z) \\right]$\n",
    "\n",
    "Evidence lower bound:\n",
    "\n",
    "$ELBO = \\mathbb{E}_{Q_\\phi} \\left[ \\log P_\\theta(y, z) - \\log Q_\\phi(z) \\right]$\n",
    "\n",
    "Taking the gradient of ELBO is tricky, but possible."
   ]
  },
  {
   "cell_type": "markdown",
   "metadata": {},
   "source": [
    "## Point of view of pytorch\n",
    "<table>\n",
    "<tr>\n",
    "<td> Variational GM </td>\n",
    "<td> Torch Compute graph </td>\n",
    "</tr>\n",
    "<tr>\n",
    "<td> <img src=\"img/var_gm.png\" alt=\"Drawing\" style=\"width: 100px;\"/> </td>\n",
    "<td> <img src=\"img/torch_cg.png\" alt=\"Drawing\" style=\"width: 100px;\"/> </td>\n",
    "</tr></table>"
   ]
  },
  {
   "cell_type": "markdown",
   "metadata": {},
   "source": [
    "```python \n",
    "import torch \n",
    "\n",
    "a = torch.randn((3), requires_grad = True)\n",
    "b = torch.randn((3), requires_grad = True)\n",
    "\n",
    "c = a + b\n",
    "print(\"grad fn for a is\", a.grad_fn)\n",
    "print(\"grad fn for c is\", c.grad_fn)\n",
    ">>>\n",
    "grad fn for a is None\n",
    "grad fn for c is <AddBackward0 object at 0x7fe9081e1e90>\n",
    "```\n",
    "\n",
    "And thus the computation graph is created and there are two steps:\n",
    "- forward pass to compute the value of the loss function.\n",
    "- backward pass to compute the gradients of the learnable parameters. "
   ]
  },
  {
   "cell_type": "markdown",
   "metadata": {},
   "source": [
    "## Pyro objects\n",
    " \n",
    "- constants : `alpha0 = torch.tensor(10.)`\n",
    "\n",
    "- parameters : `pyro.param(\"alpha_q\", torch.tensor(10.), constraint=constraints.positive)`\n",
    "\n",
    "- latent variables : `pyro.sample(\"nu\", dist.Beta(alpha0, beta0))`\n",
    "\n",
    "- observables : `pyro.sample('obs', dist.Bernoulli(f), obs=data)`"
   ]
  },
  {
   "cell_type": "code",
   "execution_count": 2,
   "metadata": {},
   "outputs": [],
   "source": [
    "def lr_model(data, verbose=False):\n",
    "    x_data, y_data = data\n",
    "    slope_loc = torch.tensor(0.0)\n",
    "    slope_scale = torch.tensor(1.0)\n",
    "    bias_loc = torch.tensor(1.0)\n",
    "    bias_scale = torch.tensor(1.0)\n",
    "    sigma = torch.tensor(0.2)\n",
    "    slope = pyro.sample(\"slope\", dist.Normal(slope_loc, slope_scale))\n",
    "    bias = pyro.sample(\"bias\", dist.Normal(bias_loc, bias_scale))\n",
    "    if verbose:\n",
    "        print(f\"in model: \")\n",
    "        print(f\"slope: {slope:.4f}\")\n",
    "        print(f\"bias: {bias:.4f}\")\n",
    "        print(f\"sigma: {sigma:.4f}\")\n",
    "    y_obs = pyro.sample(f\"obs\",\n",
    "                        dist.Normal(slope * x_data + bias, sigma),\n",
    "                        obs=y_data)\n",
    "    return torch.stack([x_data, y_obs])\n",
    "\n",
    "def lr_guide(data, \n",
    "             init_slope_loc=0.0,\n",
    "             init_slope_scale=0.2,\n",
    "             init_bias_loc=0.0,\n",
    "             init_bias_scale=0.2,\n",
    "             verbose=False\n",
    "            ):\n",
    "    x_data, y_data = data\n",
    "    slope_loc = pyro.param(\"slope_loc\", torch.tensor(init_slope_loc))\n",
    "    slope_scale = pyro.param(\"slope_scale\", torch.tensor(init_slope_scale), \n",
    "                             constraints.positive)\n",
    "#     slope_scale = torch.tensor(init_slope_scale)\n",
    "    bias_loc = pyro.param(\"bias_loc\", torch.tensor(init_bias_loc))\n",
    "    bias_scale = pyro.param(\"bias_scale\", torch.tensor(init_bias_scale), \n",
    "                            constraints.positive) \n",
    "#     bias_scale = torch.tensor(init_bias_scale)\n",
    "    slope = pyro.sample(\"slope\", dist.Normal(slope_loc, slope_scale))\n",
    "    bias = pyro.sample(\"bias\", dist.Normal(bias_loc, bias_scale))\n",
    "    if verbose:\n",
    "        print(f\"in model: \")\n",
    "        print(f\"slope: {slope:.4f}\")\n",
    "        print(f\"bias: {bias:.4f}\")\n",
    "        print(f\"sigma: {sigma:.4f}\")"
   ]
  },
  {
   "cell_type": "code",
   "execution_count": 3,
   "metadata": {},
   "outputs": [
    {
     "name": "stdout",
     "output_type": "stream",
     "text": [
      "in model: \n",
      "slope: -1.4693\n",
      "bias: 1.6935\n",
      "sigma: 0.2000\n"
     ]
    },
    {
     "data": {
      "text/plain": [
       "<matplotlib.collections.PathCollection at 0x7fe84fe8b950>"
      ]
     },
     "execution_count": 3,
     "metadata": {},
     "output_type": "execute_result"
    },
    {
     "data": {
      "image/png": "[encoded data removed]",
      "text/plain": [
       "<Figure size 432x288 with 1 Axes>"
      ]
     },
     "metadata": {},
     "output_type": "display_data"
    }
   ],
   "source": [
    "pyro.clear_param_store()\n",
    "seed = 11\n",
    "n = 40\n",
    "n_pieces = 2\n",
    "pyro.set_rng_seed(seed)\n",
    "torch.manual_seed(seed)\n",
    "data_gen = torch.rand(n), torch.rand(n)\n",
    "data = pyro.poutine.uncondition(lr_model)(data_gen, True).detach()\n",
    "plt.scatter(data[0], data[1])"
   ]
  },
  {
   "cell_type": "code",
   "execution_count": 4,
   "metadata": {},
   "outputs": [],
   "source": [
    "gen_data_par = {\n",
    "    \"slope\": -1.4693,\n",
    "    \"bias\": 1.6935,\n",
    "}"
   ]
  },
  {
   "cell_type": "code",
   "execution_count": 5,
   "metadata": {},
   "outputs": [
    {
     "name": "stdout",
     "output_type": "stream",
     "text": [
      "[iteration 0000] loss: 1012.384\n",
      "[iteration 0050] loss: 23.964\n",
      "[iteration 0100] loss: 1.684\n",
      "[iteration 0150] loss: 3.169\n",
      "[iteration 0200] loss: 1.731\n",
      "[iteration 0250] loss: 9.026\n",
      "[iteration 0300] loss: 3.306\n"
     ]
    },
    {
     "data": {
      "text/plain": [
       "[<matplotlib.lines.Line2D at 0x7fe84f760bd0>]"
      ]
     },
     "execution_count": 5,
     "metadata": {},
     "output_type": "execute_result"
    },
    {
     "data": {
      "image/png": "[encoded data removed]",
      "text/plain": [
       "<Figure size 432x288 with 1 Axes>"
      ]
     },
     "metadata": {},
     "output_type": "display_data"
    }
   ],
   "source": [
    "opt = Adam({\"lr\": 0.1})\n",
    "svi = SVI(lr_model, lr_guide, opt, loss=Trace_ELBO())\n",
    "\n",
    "pyro.clear_param_store()\n",
    "losses = []\n",
    "for j in range(301):\n",
    "    loss = svi.step(data)\n",
    "    losses += [loss]\n",
    "    if j % 50 == 0:\n",
    "        print(f\"[iteration {j:04d}] loss: {loss:.3f}\")\n",
    "plt.plot(losses)"
   ]
  },
  {
   "cell_type": "code",
   "execution_count": 6,
   "metadata": {},
   "outputs": [],
   "source": [
    "params = pyro.get_param_store()\n",
    "param_history = {}\n",
    "for name, value in params.items():\n",
    "    value = value.detach().numpy()\n",
    "    param_history[name] = value"
   ]
  },
  {
   "cell_type": "code",
   "execution_count": 7,
   "metadata": {},
   "outputs": [
    {
     "data": {
      "text/plain": [
       "[<matplotlib.lines.Line2D at 0x7fe84eee1e50>]"
      ]
     },
     "execution_count": 7,
     "metadata": {},
     "output_type": "execute_result"
    },
    {
     "data": {
      "image/png": "[encoded data removed]",
      "text/plain": [
       "<Figure size 432x288 with 1 Axes>"
      ]
     },
     "metadata": {},
     "output_type": "display_data"
    }
   ],
   "source": [
    "slope = param_history[\"slope_loc\"]\n",
    "bias = param_history[\"bias_loc\"]\n",
    "xmin, xmax = data[0].min(), data[0].max()\n",
    "xd = np.linspace(xmin, xmax, 100)\n",
    "yd = xd*slope + bias\n",
    "plt.scatter(data[0], data[1])\n",
    "plt.plot(xd, yd)"
   ]
  },
  {
   "cell_type": "code",
   "execution_count": 8,
   "metadata": {},
   "outputs": [],
   "source": [
    "from pyro.infer.predictive import _predictive_sequential\n",
    "from collections import defaultdict\n",
    "n_samples = 500\n",
    "\n",
    "def get_samples(foo, margs):\n",
    "    trace = _predictive_sequential(\n",
    "        foo,\n",
    "        {},\n",
    "        model_args=(),\n",
    "        model_kwargs=margs,\n",
    "        num_samples=n_samples,\n",
    "        return_site_shapes=(),\n",
    "        return_trace=True,\n",
    "    )\n",
    "\n",
    "    flat = [\n",
    "        {\n",
    "            k: v[\"value\"]\n",
    "            for k, v in x.nodes.items()\n",
    "            if not k.startswith(\"_\")\n",
    "    #         and v[\"type\"] != \"param\"\n",
    "            and not v[\"is_observed\"]\n",
    "        }\n",
    "        for x in trace\n",
    "    ]\n",
    "    post_data = defaultdict(list)\n",
    "\n",
    "    for item in flat:\n",
    "        for k in item:\n",
    "            post_data[k] += [item[k]]\n",
    "    return post_data"
   ]
  },
  {
   "cell_type": "code",
   "execution_count": 9,
   "metadata": {},
   "outputs": [],
   "source": [
    "prior_sample = get_samples(lr_model, {\"data\": data})\n",
    "post_sample = get_samples(lr_guide, {\"data\": data})"
   ]
  },
  {
   "cell_type": "code",
   "execution_count": 10,
   "metadata": {},
   "outputs": [
    {
     "data": {
      "image/png": "[encoded data removed]",
      "text/plain": [
       "<Figure size 864x432 with 2 Axes>"
      ]
     },
     "metadata": {},
     "output_type": "display_data"
    }
   ],
   "source": [
    "kkeys = sorted(prior_sample.keys())\n",
    "fig, axs = plt.subplots(len(prior_sample), 1, figsize=(12, 3*len(kkeys)))\n",
    "for k, ax in zip(kkeys, axs):\n",
    "    sns.distplot(post_sample[k], ax=ax, label='guide')\n",
    "    sns.distplot(prior_sample[k], label='model', ax=ax)\n",
    "    ax.set_title(f'{k}')\n",
    "    ax.axvline(gen_data_par[k])\n",
    "    ax.legend()"
   ]
  }
 ],
 "metadata": {
  "kernelspec": {
   "display_name": "Python 3 (ipykernel)",
   "language": "python",
   "name": "python3"
  },
  "language_info": {
   "codemirror_mode": {
    "name": "ipython",
    "version": 3
   },
   "file_extension": ".py",
   "mimetype": "text/x-python",
   "name": "python",
   "nbconvert_exporter": "python",
   "pygments_lexer": "ipython3",
   "version": "3.8.13"
  }
 },
 "nbformat": 4,
 "nbformat_minor": 4
}
